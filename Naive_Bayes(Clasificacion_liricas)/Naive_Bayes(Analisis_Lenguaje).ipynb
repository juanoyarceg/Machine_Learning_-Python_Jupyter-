{
 "cells": [
  {
   "cell_type": "markdown",
   "metadata": {},
   "source": [
    "### Desafío - Naive Bayes\n",
    "\n",
    "* Para realizar este desafío debes haber revisado la lectura y videos correspondiente a la unidad.\n",
    "* Crea una carpeta de trabajo y guarda todos los archivos correspondientes (notebook y csv).\n",
    "* Una vez terminado el desafío, comprime la carpeta y sube el .zip a la sección correspondiente.\n",
    "\n",
    "Nombres: - María Eugenia Martínez - Rene Navarro - Juan Oyarce  "
   ]
  },
  {
   "cell_type": "markdown",
   "metadata": {},
   "source": [
    "### Descripción\n",
    "\n",
    "* En esta sesión trabajaremos con una serie de base de datos sobre letras musicales de distintos artistas. \n",
    "* Cada uno de los csv se encuentra en la carpeta dump dentro del proyecto. Cada csv tiene el nombre del artista a analizar. Los archivos contienen el nombre del artista, el género musical del artista, el nombre de la canción y las letras.\n",
    "* En base a esta información, se les pide un modelo generativo que pueda predecir el género de una canción a patir de la letra de una canción.\n",
    "* Existen 4 géneros que se registran en la base de datos, por lo que para esta actividad trabajaremos con un Multinomial Naive Bayes."
   ]
  },
  {
   "cell_type": "markdown",
   "metadata": {},
   "source": [
    "### Ejercicio 1: Preparar el ambiente de trabajo\n",
    "\n",
    "* Importe los módulos numpy , pandas , matplotlib , seaborn , glob y os siguiendo las buenas prácticas. Los últimos dos módulos permitirán realizar la importación de múltiples archivos dentro de la carpeta dump.\n",
    "* Para ello genere un objeto que guarde en una lista todos los archivos alojados en dump utilizando glob.glob y os.getcwd() para extraer las rutas absolutas. Posteriormente genere un objeto pd.DataFrame que contenga todos los csv.\n",
    "* Asegúrese de eliminar la columna Unnamed: 0 que se genera por defecto."
   ]
  },
  {
   "cell_type": "code",
   "execution_count": 91,
   "metadata": {},
   "outputs": [],
   "source": [
    "# Importación de librerías\n",
    "import pandas as pd\n",
    "import numpy as np\n",
    "import seaborn as sns\n",
    "sns.set_style('darkgrid')\n",
    "import matplotlib.pyplot as plt\n",
    "from sklearn.model_selection import train_test_split\n",
    "from sklearn.preprocessing import StandardScaler\n",
    "from sklearn.metrics import confusion_matrix, classification_report\n",
    "\n",
    "from IPython.display import display, Markdown\n",
    "import missingno as msngo\n",
    "\n",
    "import os\n",
    "import glob\n",
    "import operator\n",
    "from sklearn.feature_extraction.text import CountVectorizer\n",
    "from sklearn.preprocessing import LabelEncoder\n",
    "from sklearn.naive_bayes import MultinomialNB\n",
    "from sklearn.pipeline import Pipeline\n",
    "\n",
    "\n",
    "\n",
    "import warnings\n",
    "warnings.filterwarnings('ignore')"
   ]
  },
  {
   "cell_type": "code",
   "execution_count": 159,
   "metadata": {},
   "outputs": [
    {
     "name": "stdout",
     "output_type": "stream",
     "text": [
      "C:\\Users\\Juan\\Desafio\\Modulo III\\Desafíos\\1.3\\dump\\anthrax_scrape.csv\n",
      "C:\\Users\\Juan\\Desafio\\Modulo III\\Desafíos\\1.3\\dump\\a_tribe_called_quest_scrape.csv\n",
      "C:\\Users\\Juan\\Desafio\\Modulo III\\Desafíos\\1.3\\dump\\black_star_scrape.csv\n",
      "C:\\Users\\Juan\\Desafio\\Modulo III\\Desafíos\\1.3\\dump\\bob_dylan_scrape.csv\n",
      "C:\\Users\\Juan\\Desafio\\Modulo III\\Desafíos\\1.3\\dump\\britney_spears_scrape.csv\n",
      "C:\\Users\\Juan\\Desafio\\Modulo III\\Desafíos\\1.3\\dump\\bruce_springsteen_scrape.csv\n",
      "C:\\Users\\Juan\\Desafio\\Modulo III\\Desafíos\\1.3\\dump\\cannibal_corpse_scrape.csv\n",
      "C:\\Users\\Juan\\Desafio\\Modulo III\\Desafíos\\1.3\\dump\\carly_rae_jepsen_scrape.csv\n",
      "C:\\Users\\Juan\\Desafio\\Modulo III\\Desafíos\\1.3\\dump\\deicide_scrape.csv\n",
      "C:\\Users\\Juan\\Desafio\\Modulo III\\Desafíos\\1.3\\dump\\de_la_soul_scrape.csv\n",
      "C:\\Users\\Juan\\Desafio\\Modulo III\\Desafíos\\1.3\\dump\\dr._dre_scrape.csv\n",
      "C:\\Users\\Juan\\Desafio\\Modulo III\\Desafíos\\1.3\\dump\\dua_lipa_scrape.csv\n",
      "C:\\Users\\Juan\\Desafio\\Modulo III\\Desafíos\\1.3\\dump\\eminem_scrape.csv\n",
      "C:\\Users\\Juan\\Desafio\\Modulo III\\Desafíos\\1.3\\dump\\faith_no_more_scrape.csv\n",
      "C:\\Users\\Juan\\Desafio\\Modulo III\\Desafíos\\1.3\\dump\\ghostface_killah_scrape.csv\n",
      "C:\\Users\\Juan\\Desafio\\Modulo III\\Desafíos\\1.3\\dump\\gorgoroth_scrape.csv\n",
      "C:\\Users\\Juan\\Desafio\\Modulo III\\Desafíos\\1.3\\dump\\immortal_scrape.csv\n",
      "C:\\Users\\Juan\\Desafio\\Modulo III\\Desafíos\\1.3\\dump\\incubus_scrape.csv\n",
      "C:\\Users\\Juan\\Desafio\\Modulo III\\Desafíos\\1.3\\dump\\iron_maiden_scrape.csv\n",
      "C:\\Users\\Juan\\Desafio\\Modulo III\\Desafíos\\1.3\\dump\\kanye_west_scrape.csv\n",
      "C:\\Users\\Juan\\Desafio\\Modulo III\\Desafíos\\1.3\\dump\\kendrick_lamar_scrape.csv\n",
      "C:\\Users\\Juan\\Desafio\\Modulo III\\Desafíos\\1.3\\dump\\killer_mike_scrape.csv\n",
      "C:\\Users\\Juan\\Desafio\\Modulo III\\Desafíos\\1.3\\dump\\kiss_scrape.csv\n",
      "C:\\Users\\Juan\\Desafio\\Modulo III\\Desafíos\\1.3\\dump\\led_zeppelin_scrape.csv\n",
      "C:\\Users\\Juan\\Desafio\\Modulo III\\Desafíos\\1.3\\dump\\lorde_scrape.csv\n",
      "C:\\Users\\Juan\\Desafio\\Modulo III\\Desafíos\\1.3\\dump\\mayhem_scrape.csv\n",
      "C:\\Users\\Juan\\Desafio\\Modulo III\\Desafíos\\1.3\\dump\\megadeth_scrape.csv\n",
      "C:\\Users\\Juan\\Desafio\\Modulo III\\Desafíos\\1.3\\dump\\meshuggah_scrape.csv\n",
      "C:\\Users\\Juan\\Desafio\\Modulo III\\Desafíos\\1.3\\dump\\metallica_scrape.csv\n",
      "C:\\Users\\Juan\\Desafio\\Modulo III\\Desafíos\\1.3\\dump\\method_man_scrape.csv\n",
      "C:\\Users\\Juan\\Desafio\\Modulo III\\Desafíos\\1.3\\dump\\mf_doom_scrape.csv\n",
      "C:\\Users\\Juan\\Desafio\\Modulo III\\Desafíos\\1.3\\dump\\michael_jackson_scrape.csv\n",
      "C:\\Users\\Juan\\Desafio\\Modulo III\\Desafíos\\1.3\\dump\\mobb_deep_scrape.csv\n",
      "C:\\Users\\Juan\\Desafio\\Modulo III\\Desafíos\\1.3\\dump\\modest_mouse_scrape.csv\n",
      "C:\\Users\\Juan\\Desafio\\Modulo III\\Desafíos\\1.3\\dump\\mos_def_scrape.csv\n",
      "C:\\Users\\Juan\\Desafio\\Modulo III\\Desafíos\\1.3\\dump\\necrophagist_scrape.csv\n",
      "C:\\Users\\Juan\\Desafio\\Modulo III\\Desafíos\\1.3\\dump\\nickelback_scrape.csv\n",
      "C:\\Users\\Juan\\Desafio\\Modulo III\\Desafíos\\1.3\\dump\\nicki_minaj_scrape.csv\n",
      "C:\\Users\\Juan\\Desafio\\Modulo III\\Desafíos\\1.3\\dump\\nwa_scrape.csv\n",
      "C:\\Users\\Juan\\Desafio\\Modulo III\\Desafíos\\1.3\\dump\\oasis_scrape.csv\n",
      "C:\\Users\\Juan\\Desafio\\Modulo III\\Desafíos\\1.3\\dump\\opeth_scrape.csv\n",
      "C:\\Users\\Juan\\Desafio\\Modulo III\\Desafíos\\1.3\\dump\\pink_floyd_scrape.csv\n",
      "C:\\Users\\Juan\\Desafio\\Modulo III\\Desafíos\\1.3\\dump\\public_enemy_scrape.csv\n",
      "C:\\Users\\Juan\\Desafio\\Modulo III\\Desafíos\\1.3\\dump\\queen_scrape.csv\n",
      "C:\\Users\\Juan\\Desafio\\Modulo III\\Desafíos\\1.3\\dump\\radiohead_scrape.csv\n",
      "C:\\Users\\Juan\\Desafio\\Modulo III\\Desafíos\\1.3\\dump\\raekwon_scrape.csv\n",
      "C:\\Users\\Juan\\Desafio\\Modulo III\\Desafíos\\1.3\\dump\\rage_against_the_machine_scrape.csv\n",
      "C:\\Users\\Juan\\Desafio\\Modulo III\\Desafíos\\1.3\\dump\\red_hot_chili_peppers_scrape.csv\n",
      "C:\\Users\\Juan\\Desafio\\Modulo III\\Desafíos\\1.3\\dump\\rush_scrape.csv\n",
      "C:\\Users\\Juan\\Desafio\\Modulo III\\Desafíos\\1.3\\dump\\sam_smith_scrape.csv\n",
      "C:\\Users\\Juan\\Desafio\\Modulo III\\Desafíos\\1.3\\dump\\sia_scrape.csv\n",
      "C:\\Users\\Juan\\Desafio\\Modulo III\\Desafíos\\1.3\\dump\\slayer_scrape.csv\n",
      "C:\\Users\\Juan\\Desafio\\Modulo III\\Desafíos\\1.3\\dump\\spice_girls_scrape.csv\n",
      "C:\\Users\\Juan\\Desafio\\Modulo III\\Desafíos\\1.3\\dump\\system_of_a_down_scrape.csv\n",
      "C:\\Users\\Juan\\Desafio\\Modulo III\\Desafíos\\1.3\\dump\\the_beatles_scrape.csv\n",
      "C:\\Users\\Juan\\Desafio\\Modulo III\\Desafíos\\1.3\\dump\\the_clash_scrape.csv\n",
      "C:\\Users\\Juan\\Desafio\\Modulo III\\Desafíos\\1.3\\dump\\the_doors_scrape.csv\n",
      "C:\\Users\\Juan\\Desafio\\Modulo III\\Desafíos\\1.3\\dump\\the_smashing_pumpkins_scrape.csv\n",
      "C:\\Users\\Juan\\Desafio\\Modulo III\\Desafíos\\1.3\\dump\\the_smiths_scrape.csv\n",
      "C:\\Users\\Juan\\Desafio\\Modulo III\\Desafíos\\1.3\\dump\\tool_scrape.csv\n",
      "C:\\Users\\Juan\\Desafio\\Modulo III\\Desafíos\\1.3\\dump\\vital_remains_scrape.csv\n",
      "C:\\Users\\Juan\\Desafio\\Modulo III\\Desafíos\\1.3\\dump\\weezer_scrape.csv\n"
     ]
    }
   ],
   "source": [
    "#creación de un dataframe con los csv separados\n",
    "direction= glob.glob(os.getcwd()+'\\dump\\*.csv') # dirección de los archivos csv\n",
    "dfList=[]\n",
    "for filename in direction: # ciclo para añadir los csv a una lista de csv\n",
    "    print(filename)\n",
    "    df=pd.read_csv(filename, header=None)\n",
    "    dfList.append(df) \n",
    "    "
   ]
  },
  {
   "cell_type": "code",
   "execution_count": 168,
   "metadata": {},
   "outputs": [
    {
     "data": {
      "text/plain": [
       "(9551, 5)"
      ]
     },
     "metadata": {},
     "output_type": "display_data"
    },
    {
     "data": {
      "text/plain": [
       "(9551, 4)"
      ]
     },
     "metadata": {},
     "output_type": "display_data"
    },
    {
     "data": {
      "text/plain": [
       "(9489, 4)"
      ]
     },
     "metadata": {},
     "output_type": "display_data"
    }
   ],
   "source": [
    "concatDf=pd.concat(dfList, axis=0) #concatenacion de  la lista de csv a un dataframe\n",
    "display(concatDf.shape)\n",
    "namescol=[\"a\", \"grupo\",\"genero\",\"cancion\",\"letra\"]# nombre a las columnas del dataframe\n",
    "concatDf.columns=namescol\n",
    "concatDf.drop(concatDf.columns[0], axis='columns', inplace= True) #Eliminación primera \"columna basura\"\n",
    "df=concatDf\n",
    "display (df.shape)\n",
    "df = df.drop(df[df['grupo']=='0'].index) #Eliminación de las falsas filas que se generan al concatenar los múltiples csv\n",
    "display(df.shape)"
   ]
  },
  {
   "cell_type": "code",
   "execution_count": 347,
   "metadata": {},
   "outputs": [
    {
     "data": {
      "text/html": [
       "<div>\n",
       "<style scoped>\n",
       "    .dataframe tbody tr th:only-of-type {\n",
       "        vertical-align: middle;\n",
       "    }\n",
       "\n",
       "    .dataframe tbody tr th {\n",
       "        vertical-align: top;\n",
       "    }\n",
       "\n",
       "    .dataframe thead th {\n",
       "        text-align: right;\n",
       "    }\n",
       "</style>\n",
       "<table border=\"1\" class=\"dataframe\">\n",
       "  <thead>\n",
       "    <tr style=\"text-align: right;\">\n",
       "      <th></th>\n",
       "      <th>grupo</th>\n",
       "      <th>genero</th>\n",
       "      <th>cancion</th>\n",
       "      <th>letra</th>\n",
       "    </tr>\n",
       "  </thead>\n",
       "  <tbody>\n",
       "    <tr>\n",
       "      <th>1</th>\n",
       "      <td>Anthrax</td>\n",
       "      <td>metal</td>\n",
       "      <td>Deathrider</td>\n",
       "      <td>Riding hard, high in the saddle \\n Winged stee...</td>\n",
       "    </tr>\n",
       "    <tr>\n",
       "      <th>2</th>\n",
       "      <td>Anthrax</td>\n",
       "      <td>metal</td>\n",
       "      <td>Metal Thrashing Mad</td>\n",
       "      <td>Racing down the road \\n In a street machine of...</td>\n",
       "    </tr>\n",
       "    <tr>\n",
       "      <th>3</th>\n",
       "      <td>Anthrax</td>\n",
       "      <td>metal</td>\n",
       "      <td>I'm Eighteen</td>\n",
       "      <td>Lines form on my face and hands \\n Lines form ...</td>\n",
       "    </tr>\n",
       "    <tr>\n",
       "      <th>4</th>\n",
       "      <td>Anthrax</td>\n",
       "      <td>metal</td>\n",
       "      <td>Panic</td>\n",
       "      <td>Move it to the front \\n Reaching for the light...</td>\n",
       "    </tr>\n",
       "    <tr>\n",
       "      <th>5</th>\n",
       "      <td>Anthrax</td>\n",
       "      <td>metal</td>\n",
       "      <td>Subjugator</td>\n",
       "      <td>Out in the streets \\n We're fighting tonight \\...</td>\n",
       "    </tr>\n",
       "  </tbody>\n",
       "</table>\n",
       "</div>"
      ],
      "text/plain": [
       "     grupo genero              cancion  \\\n",
       "1  Anthrax  metal           Deathrider   \n",
       "2  Anthrax  metal  Metal Thrashing Mad   \n",
       "3  Anthrax  metal         I'm Eighteen   \n",
       "4  Anthrax  metal                Panic   \n",
       "5  Anthrax  metal           Subjugator   \n",
       "\n",
       "                                               letra  \n",
       "1  Riding hard, high in the saddle \\n Winged stee...  \n",
       "2  Racing down the road \\n In a street machine of...  \n",
       "3  Lines form on my face and hands \\n Lines form ...  \n",
       "4  Move it to the front \\n Reaching for the light...  \n",
       "5  Out in the streets \\n We're fighting tonight \\...  "
      ]
     },
     "execution_count": 347,
     "metadata": {},
     "output_type": "execute_result"
    }
   ],
   "source": [
    "df.head()"
   ]
  },
  {
   "cell_type": "markdown",
   "metadata": {},
   "source": [
    "### Ejercicio 2: Descripción de los datos\n",
    "* Utilizando el objeto creado en el Ejercicio 1, genere dos gráficos de barras que resuman la siguiente información:\n",
    "    * La cantidad de canciones registradas por cada artista, ordenado de mayor a menor.\n",
    "    * La cantidad de canciones registradas en cada género, ordenados de mayor a menor.\n",
    "* Comente sobre las principales tendencias."
   ]
  },
  {
   "cell_type": "code",
   "execution_count": 11,
   "metadata": {},
   "outputs": [
    {
     "data": {
      "text/plain": [
       "Eminem                      493\n",
       "Bruce Springsteen           467\n",
       "Bob Dylan                   447\n",
       "Britney Spears              323\n",
       "Nicki Minaj                 282\n",
       "Michael Jackson             279\n",
       "Kanye West                  273\n",
       "The Beatles                 265\n",
       "Ghostface Killah            255\n",
       "The Smashing Pumpkins       254\n",
       "Weezer                      251\n",
       "Mobb Deep                   231\n",
       "Red Hot Chili Peppers       226\n",
       "Kiss                        219\n",
       "The Doors                   214\n",
       "Public Enemy                198\n",
       "Megadeth                    190\n",
       "Queen                       188\n",
       "Iron Maiden                 185\n",
       "Raekwon                     184\n",
       "De La Soul                  174\n",
       "Cannibal Corpse             171\n",
       "Anthrax                     170\n",
       "Rush                        167\n",
       "Metallica                   155\n",
       "Modest Mouse                154\n",
       "Radiohead                   151\n",
       "Slayer                      147\n",
       "The Clash                   145\n",
       "Pink Floyd                  135\n",
       "                           ... \n",
       "Kendrick Lamar              133\n",
       "Incubus                     130\n",
       "Mos Def                     130\n",
       "Nickelback                  121\n",
       "System of a Down            117\n",
       "A Tribe Called Quest        114\n",
       "SIA                         111\n",
       "Dr. Dre                     105\n",
       "Led Zeppelin                105\n",
       "Method Man                  104\n",
       "Deicide                     104\n",
       "Opeth                        99\n",
       "Faith No More                98\n",
       "Spice Girls                  84\n",
       "Meshuggah                    81\n",
       "The Smiths                   77\n",
       "Rage Against The Machine     75\n",
       "Mayhem                       73\n",
       "Immortal                     68\n",
       "Carly Rae Jepsen             64\n",
       "MF Doom                      62\n",
       "Tool                         62\n",
       "Killer Mike                  56\n",
       "Vital Remains                45\n",
       "Sam Smith                    33\n",
       "Dua Lipa                     29\n",
       "Lorde                        27\n",
       "Black Star                   23\n",
       "Gorgoroth                    16\n",
       "Necrophagist                 16\n",
       "Name: grupo, Length: 61, dtype: int64"
      ]
     },
     "metadata": {},
     "output_type": "display_data"
    },
    {
     "data": {
      "text/plain": [
       "rock      4140\n",
       "hiphop    2535\n",
       "metal     1582\n",
       "pop       1232\n",
       "Name: genero, dtype: int64"
      ]
     },
     "metadata": {},
     "output_type": "display_data"
    }
   ],
   "source": [
    "display (df[\"grupo\"].value_counts())\n",
    "display (df[\"genero\"].value_counts())"
   ]
  },
  {
   "cell_type": "code",
   "execution_count": 12,
   "metadata": {},
   "outputs": [
    {
     "data": {
      "text/plain": [
       "Text(0, 0.5, 'Grupos')"
      ]
     },
     "execution_count": 12,
     "metadata": {},
     "output_type": "execute_result"
    },
    {
     "data": {
      "image/png": "[encoded data removed]",
      "text/plain": [
       "<Figure size 576x1800 with 1 Axes>"
      ]
     },
     "metadata": {
      "needs_background": "light"
     },
     "output_type": "display_data"
    }
   ],
   "source": [
    "plt.figure(figsize=(8, 25))\n",
    "df[\"grupo\"].value_counts().sort_values().plot(kind='barh', legend='reverse')\n",
    "plt.title('Frecuencia de las canciones de los grupos')\n",
    "plt.xlabel('Frecuencia de Canciones')\n",
    "plt.ylabel('Grupos')"
   ]
  },
  {
   "cell_type": "code",
   "execution_count": 13,
   "metadata": {},
   "outputs": [
    {
     "data": {
      "text/plain": [
       "Text(0, 0.5, 'Genero')"
      ]
     },
     "execution_count": 13,
     "metadata": {},
     "output_type": "execute_result"
    },
    {
     "data": {
      "image/png": "[encoded data removed]",
      "text/plain": [
       "<Figure size 576x432 with 1 Axes>"
      ]
     },
     "metadata": {
      "needs_background": "light"
     },
     "output_type": "display_data"
    }
   ],
   "source": [
    "plt.figure(figsize=(8, 6))\n",
    "df[\"genero\"].value_counts().sort_values().plot(kind='barh', legend='reverse')\n",
    "plt.title('Frecuencia de las canciones según genero')\n",
    "plt.xlabel('Frecuencia de Canciones')\n",
    "plt.ylabel('Genero')"
   ]
  },
  {
   "cell_type": "markdown",
   "metadata": {},
   "source": [
    "- Se puede apreciar que los grupos que tienen mayor cantidad de canciones corresponden a Eminen, Bruce Springteen, Bob Dylan, entre otros; el rango varía desde Eminen con 493 canciones hasta Necrophagist con sólo 16 canciones . Con respecto, a los generos más representados, predomina el rock con 4140 canciones, seguido por el hip-hop con 2535, luego el metal con  1582 y, por último, el pop con 1232 canciones."
   ]
  },
  {
   "cell_type": "markdown",
   "metadata": {},
   "source": [
    "### Ejercicio 3: Matriz de ocurrencias\n",
    "\n",
    "* Digresión: Tokenización de Textos\n",
    "    * Para poder trabajar con textos, debemos pasarlos a una matriz dispersa, donde cada fila representará una entrada (en este caso, una canción), y cada columna representará una palabra (token). Este es el proceso de tokenización: Identificar la ocurrencia de una palabra específica dentro de un conjunto de textos (corpus). El tokenizador más simple sklearn.feature_extraction.text.CountVectorizer genera una colección de textos a una matriz que representa la frecuencia dentro del texto de una palabra específica. El tokenizador funciona de la siguiente manera:\n",
    "    \n",
    "```python\n",
    "\n",
    "from sklearn.feature_extraction.text import CountVectorizer\n",
    "# instanciamos un objeto\n",
    "count_vectorizer=CountVectorizer(stop_words='english')\n",
    "# Implementamos los pasos fit y transform\n",
    "count_vectorizer_fit = count_vectorizer.fit_transform(lista_de_textos)\n",
    "# Extraemos tokens (palabras)\n",
    "words = count_vectorizer.get_feature_names()\n",
    "# extraemos frecuencia\n",
    "words_freq = count_vectorizer_fit.toarray().sum(axis=0)\n",
    "```\n",
    "    \n",
    "    \n",
    "* Importe la clase CountVectorizer dentro de los módulos feature_extraction.text de la librería sklearn . Lea la documentación asociada a ésta. ¿Cuál es el objetivo de esta clase?\n",
    "* Aplique la clase para extraer las 100 palabras más repetidas en toda la base de datos.\n",
    "* Genere una función que replique el procedimiento para cada uno de los géneros.\n",
    "* Comente sobre las principales características de cada género en cuanto a sus palabras."
   ]
  },
  {
   "cell_type": "code",
   "execution_count": 15,
   "metadata": {},
   "outputs": [
    {
     "name": "stdout",
     "output_type": "stream",
     "text": [
      "['ah', 'ain', 'ass', 'away', 'baby', 'bad', 'better', 'big', 'bitch', 'black', 'boy', 'cause', 'come', 'day', 'dead', 'death', 'did', 'die', 'don', 'em', 'end', 'everybody', 'eyes', 'face', 'feel', 'fuck', 'girl', 'god', 'gone', 'gonna', 'good', 'got', 'gotta', 'hard', 'head', 'hear', 'heart', 'hey', 'high', 'hit', 'hold', 'home', 'inside', 'just', 'know', 'la', 'leave', 'left', 'let', 'life', 'light', 'like', 'little', 'live', 'll', 'long', 'look', 'love', 'make', 'man', 'mind', 'money', 'need', 'new', 'nigga', 'niggas', 'night', 'oh', 'ooh', 'people', 'real', 'really', 'right', 'rock', 'run', 'said', 'say', 'shit', 'soul', 'stay', 'stop', 'tell', 'thing', 'things', 'think', 'till', 'time', 'tonight', 'try', 'turn', 'uh', 've', 'wanna', 'want', 'way', 'won', 'world', 'ya', 'yeah', 'yo']\n",
      "[('stay', 1828), ('end', 1829), ('thing', 1882), ('left', 1895), ('death', 1897), ('everybody', 1903), ('inside', 1915), ('soul', 1921), ('boy', 1971), ('high', 1989), ('till', 2003), ('tonight', 2010), ('gone', 2016), ('hard', 2037), ('hit', 2048), ('leave', 2056), ('dead', 2076), ('turn', 2078), ('light', 2101), ('uh', 2146), ('rock', 2165), ('try', 2165), ('run', 2176), ('things', 2186), ('la', 2202), ('bad', 2217), ('die', 2303), ('hold', 2326), ('did', 2359), ('big', 2363), ('ass', 2421), ('face', 2437), ('ah', 2476), ('home', 2503), ('hear', 2529), ('live', 2544), ('money', 2551), ('head', 2669), ('really', 2681), ('ooh', 2719), ('people', 2739), ('bitch', 2756), ('long', 2781), ('better', 2801), ('new', 2803), ('stop', 2811), ('black', 2832), ('real', 2846), ('eyes', 2857), ('heart', 2861), ('mind', 3000), ('god', 3011), ('niggas', 3057), ('won', 3161), ('gotta', 3272), ('hey', 3341), ('girl', 3618), ('said', 3692), ('little', 3708), ('look', 3805), ('night', 3835), ('think', 3902), ('good', 3910), ('world', 4106), ('away', 4126), ('day', 4217), ('ya', 4222), ('em', 4292), ('nigga', 4334), ('tell', 4533), ('fuck', 4537), ('need', 4579), ('feel', 4704), ('yo', 4859), ('gonna', 5121), ('wanna', 5356), ('life', 5710), ('way', 5713), ('ve', 5924), ('shit', 6128), ('right', 6207), ('say', 6684), ('want', 6698), ('baby', 6735), ('make', 6821), ('ain', 7323), ('man', 7467), ('come', 7866), ('let', 8009), ('time', 8037), ('cause', 8356), ('oh', 9879), ('ll', 10028), ('yeah', 11071), ('love', 11268), ('just', 13978), ('got', 14171), ('know', 14962), ('don', 17398), ('like', 19629)]\n"
     ]
    }
   ],
   "source": [
    "# Conteo de palabras  generales\n",
    "# 1 Instanciamos un objeto CountVectorizer\n",
    "count_vectorizer=CountVectorizer(stop_words='english',max_features=100)\n",
    "# 2 Implementamos los pasos fit y transform\n",
    "count_vectorizer_fit = count_vectorizer.fit_transform(df['letra'])\n",
    "# 3 Extraemos tokens (palabras)\n",
    "words = count_vectorizer.get_feature_names()\n",
    "# 4 Extraemos frecuencia\n",
    "words_freq = count_vectorizer_fit.toarray().sum(axis=0)\n",
    "# 5 Generamos un diccionario con ambos array: palabras y su frecuencia\n",
    "words_freq_show = dict(zip(words, words_freq)) \n",
    "# 6 Ordenamos el diccionario de acuerdo a los valores con el método operator.itemgetter\n",
    "words_sortedfreq=sorted(words_freq_show.items(),key=operator.itemgetter(1,0))\n",
    "print(words)\n",
    "print (words_sortedfreq)"
   ]
  },
  {
   "cell_type": "code",
   "execution_count": 350,
   "metadata": {},
   "outputs": [],
   "source": [
    "# Función para contar palabras según el genero\n",
    "def words_genrer (genero, nwords=10):\n",
    "    \"\"\"\n",
    "    Definición:Está función cuenta las pabras más frecuentes según la letra del genero de la canción\n",
    "    Input: recibe un string con el nombre del genero en el datafreme y un paramétro numérico que es \n",
    "    nwords que son el número de palabras a contar, por default son 10.\n",
    "    Outpout:Imprime una lista con las palabras y una lista con los diccionarios de la palabra y su \n",
    "    frecuencia ordenada ascendentemente\n",
    "    \"\"\"\n",
    "    count_vectorizer=CountVectorizer(stop_words='english',max_features=nwords)\n",
    "    count_vectorizer_fit = count_vectorizer.fit_transform(df[(df['genero'] == genero)]['letra'])\n",
    "    words = count_vectorizer.get_feature_names()\n",
    "    words_freq = count_vectorizer_fit.toarray().sum(axis=0)\n",
    "    words_freq_show = dict(zip(words, words_freq)) \n",
    "    words_sortedfreq=sorted(words_freq_show.items(),key=operator.itemgetter(1,0))\n",
    "    print('Las ',nwords,' principales palabras del genero son: \\n', words )\n",
    "    print(\"---------------------------------\\n\")\n",
    "    print('la frecuencia ordenada de éstas palabras es: \\n',words_sortedfreq)"
   ]
  },
  {
   "cell_type": "code",
   "execution_count": 351,
   "metadata": {},
   "outputs": [
    {
     "name": "stdout",
     "output_type": "stream",
     "text": [
      "Las  10  principales palabras del genero son: \n",
      " ['don', 'got', 'just', 'know', 'like', 'll', 'love', 'oh', 've', 'yeah']\n",
      "---------------------------------\n",
      "\n",
      "la frecuencia ordenada de éstas palabras es: \n",
      " [('ve', 2877), ('like', 3710), ('ll', 3825), ('got', 3872), ('just', 4103), ('yeah', 4157), ('oh', 4258), ('know', 4702), ('love', 5114), ('don', 5284)]\n"
     ]
    }
   ],
   "source": [
    "words_genrer('rock')"
   ]
  },
  {
   "cell_type": "code",
   "execution_count": 18,
   "metadata": {},
   "outputs": [
    {
     "name": "stdout",
     "output_type": "stream",
     "text": [
      "Las  10  principales palabras del genero son: \n",
      " ['ain', 'cause', 'don', 'got', 'just', 'know', 'like', 'man', 'shit', 'yo']\n",
      "---------------------------------\n",
      "\n",
      "la frecuencia ordenada de éstas palabras es: \n",
      " [('yo', 4425), ('man', 4481), ('cause', 4737), ('ain', 4782), ('shit', 5546), ('just', 6272), ('know', 6535), ('don', 7604), ('got', 7613), ('like', 12055)]\n"
     ]
    }
   ],
   "source": [
    "words_genrer('hiphop')"
   ]
  },
  {
   "cell_type": "code",
   "execution_count": 19,
   "metadata": {},
   "outputs": [
    {
     "name": "stdout",
     "output_type": "stream",
     "text": [
      "Las  10  principales palabras del genero son: \n",
      " ['blood', 'death', 'die', 'don', 'just', 'know', 'life', 'like', 'll', 'time']\n",
      "---------------------------------\n",
      "\n",
      "la frecuencia ordenada de éstas palabras es: \n",
      " [('die', 866), ('like', 869), ('blood', 884), ('just', 993), ('know', 1048), ('ll', 1069), ('time', 1096), ('death', 1139), ('don', 1181), ('life', 1233)]\n"
     ]
    }
   ],
   "source": [
    "words_genrer('metal')"
   ]
  },
  {
   "cell_type": "code",
   "execution_count": 20,
   "metadata": {},
   "outputs": [
    {
     "name": "stdout",
     "output_type": "stream",
     "text": [
      "Las  10  principales palabras del genero son: \n",
      " ['baby', 'don', 'got', 'just', 'know', 'like', 'll', 'love', 'oh', 'yeah']\n",
      "---------------------------------\n",
      "\n",
      "la frecuencia ordenada de éstas palabras es: \n",
      " [('ll', 1743), ('got', 2156), ('baby', 2192), ('yeah', 2244), ('just', 2610), ('know', 2677), ('oh', 2737), ('love', 2914), ('like', 2995), ('don', 3329)]\n"
     ]
    }
   ],
   "source": [
    "words_genrer('pop')"
   ]
  },
  {
   "cell_type": "markdown",
   "metadata": {},
   "source": [
    "- La clase CountVectorizer permite tokenizar un string y contar el número de tokens existentes.\n",
    "\n",
    "\n",
    "- Se puede apreciar que hay muchas palabras que se repiten entre sí, y también algunas constracciones, si bien la función stop_words permite ignorar éstas expresiones del lenguaje, para un mejor análisis se deberá realizar un preprocesamiento que incluya éste tipo de contracciones como por ejemplo 'll' +'ve', que en estricto rigor conforman una palabra. Pero se puede observar que, en términos generales, en el rock predominan la \"negación\" (dont), el amor, el gustar, y expresiones como \"yeah\" y \"oh\". En el hip-hop predomina el gustar (like), hombre, yo, sé, la negación, mierda, ésto da cuenta del contenido de las letras del genero.  En el metal también se observa la negación, pero sumado a palabras como muerte, sangre, vida, tiempo, morir, entre otros. En el pop predomina, el amor, la negación, el se, el gustar, baby y expresiones como \"yeah\" y \"oh\"."
   ]
  },
  {
   "cell_type": "markdown",
   "metadata": {},
   "source": [
    "### Ejercicio 4: Entrenamiento del Modelo\n",
    "* Digresión: sklearn Pipelines\n",
    "    * La clase Pipeline del módulo sklearn.pipeline permite concatenar múltiples pasos de procesamiento y preprocesamiento en un estimador generado por algún método de scikitlearn . En sí, la clase cuenta con los métodos clásicos fit , predict y score y presenta un comportamiento idéntico a los demás objetos de scikit-learn . Uno de los usos más comunes es para concatenar pasos de preprocesamiento con un modelo.\n",
    "    \n",
    "* Componentes de un Pipeline\n",
    "   * Imaginemos que deseamos implementar el siguiente modelo. Considerando un conjunto de datos, deseo Estandarlizarlo, posteriormente extraer sus principales componentes y finalmente aplicar un modelo de regresión lineal. Este flujo se puede reexpresar como:\n",
    "       \n",
    "```python\n",
    "pipeline_model = Pipeline([('scale', StandardScaler()),\n",
    "                            ('pca', RandomizedPCA(n_components=3)),\n",
    "                            ('model', LinearRegression())])\n",
    "```\n",
    "Algunos de los elementos a considerar:\n",
    "1. Cada paso se considera como una tupla, donde se declara el nombre del paso y la función\n",
    "a implementar. En este caso, nuestro primer paso es estandarizar la matriz, por lo que\n",
    "asociamos el método StandardScaler con el string scale .\n",
    "2. Todos los pasos declarados se incorporan en una lista, donde el orden de ingreso\n",
    "representa el orden de ejecución.\n",
    "Posteriormente el objeto creado puede utilizarse con los siguientes métodos\n",
    "\n",
    "```python\n",
    "pipeline_model.fit(X_train, y_train)\n",
    "y_hat = pipeline_model.predict(y_test)\n",
    "```"
   ]
  },
  {
   "cell_type": "markdown",
   "metadata": {},
   "source": [
    "* Importe MultinomialNB , train_test_split , Pipeline , confusion_matrix y classification_report.\n",
    "* Genere las muestras de entrenamiento y validación reservando un 40% para validación y declarando una semilla pseudoaleatoria.\n",
    "* Monte el modelo dentro de un Pipeline , donde el primer paso es implementar CountVectorizer y el segundo sea ejecutar el clasificador MultinomialNB.\n",
    "* A continuación se les presenta una lista de letras, ¿cuáles serían las predicciones correspondientes?\n",
    "\n",
    "```python\n",
    "['I got a place in the underworld', # Brody Dalle - Underworld\n",
    "'As veils of ignorance, hatred retains Storm of arrows through karma Seeking light through samsara', # Gorguts - Forgotten Arrows\n",
    "\"Bye bye Don't want to be a fool for you Just another player in your game for two You may hate me but it ain't no lie\", # N'SYNC - Bye Bye Bye\n",
    "'Move bitch, get out the way Get out the way bitch, get out the way Move bitch, get out the way Get out the way bitch, get out the way', # Ludacris -Move B*tch\n",
    "'Sexual violence doesn’t start and end with rape It starts in our books and behind our school gates' # IDLES - Mother,\n",
    "\"Take it from the girl you claimed to love You gonna get some bad karma I'm the one who had to learn to build a heart made of armor From the girl who made you soup and tied your shoes when you were hurting You are not deserving, you are not deserving\" #Banks -Drowning\n",
    "]\n",
    "```\n",
    "\n",
    "* Genere una predicción implementando la muestra de validación y contraste las predicciones del modelo con las etiquetas verdaderas. Reporte las principales métricas."
   ]
  },
  {
   "cell_type": "code",
   "execution_count": 193,
   "metadata": {},
   "outputs": [],
   "source": [
    "# División del dataset en subcojuntos de entrenamiento y test\n",
    "X_train, X_test, y_train, y_test = train_test_split(df['letra'], df['genero'], random_state=1986, test_size=.33)\n",
    "\n",
    "\n",
    "\n",
    "\n"
   ]
  },
  {
   "cell_type": "code",
   "execution_count": 264,
   "metadata": {},
   "outputs": [],
   "source": [
    "#Procesamiento con Pipelines\n",
    "\n",
    "pipeline_model = Pipeline([('Vectorización', CountVectorizer(stop_words='english')),\n",
    "                            ('NaiveBayes', MultinomialNB(alpha=0.1))])\n",
    "pipeline_model.fit(X_train, y_train)\n",
    "y_hat = pipeline_model.predict(X_test)"
   ]
  },
  {
   "cell_type": "code",
   "execution_count": 265,
   "metadata": {},
   "outputs": [
    {
     "name": "stdout",
     "output_type": "stream",
     "text": [
      "              precision    recall  f1-score   support\n",
      "\n",
      "      hiphop       0.82      0.92      0.87       767\n",
      "       metal       0.78      0.76      0.77       467\n",
      "         pop       0.66      0.65      0.66       742\n",
      "        rock       0.77      0.72      0.75      1266\n",
      "\n",
      "   micro avg       0.76      0.76      0.76      3242\n",
      "   macro avg       0.76      0.76      0.76      3242\n",
      "weighted avg       0.76      0.76      0.76      3242\n",
      "\n"
     ]
    },
    {
     "data": {
      "text/plain": [
       "None"
      ]
     },
     "metadata": {},
     "output_type": "display_data"
    },
    {
     "data": {
      "text/plain": [
       "Text(92.68, 0.5, 'predicted label')"
      ]
     },
     "execution_count": 265,
     "metadata": {},
     "output_type": "execute_result"
    },
    {
     "data": {
      "image/png": "[encoded data removed]",
      "text/plain": [
       "<Figure size 432x288 with 1 Axes>"
      ]
     },
     "metadata": {},
     "output_type": "display_data"
    }
   ],
   "source": [
    "#Metricas de desempeño del modelo\n",
    "\n",
    "display(print(classification_report(y_test, y_hat)))\n",
    "generos=['hiphop','metal','pop','rock']\n",
    "mat = confusion_matrix(y_test, y_hat)\n",
    "sns.heatmap(\n",
    "    mat.T, square=True, annot=True, fmt='d', cbar=False,\n",
    "    xticklabels=generos, \n",
    "    yticklabels=generos\n",
    ")\n",
    "plt.xlabel('true label')\n",
    "plt.ylabel('predicted label') \n"
   ]
  },
  {
   "cell_type": "code",
   "execution_count": 201,
   "metadata": {},
   "outputs": [
    {
     "data": {
      "text/plain": [
       "array(['rock', 'metal', 'rock', 'pop', 'metal', 'rock'], dtype='<U6')"
      ]
     },
     "execution_count": 201,
     "metadata": {},
     "output_type": "execute_result"
    }
   ],
   "source": [
    "# Predicción de letras nuevas\n",
    "letras_val=['I got a place in the underworld', \n",
    "'As veils of ignorance, hatred retains Storm of arrows through karma Seeking light through samsara', \n",
    "\"Bye bye Don't want to be a fool for you Just another player in your game for two You may hate me but it ain't no lie\", \n",
    "'Move bitch, get out the way Get out the way bitch, get out the way Move bitch, get out the way Get out the way bitch, get out the way', \n",
    "'Sexual violence doesn’t start and end with rape It starts in our books and behind our school gates', \n",
    "\"Take it from the girl you claimed to love You gonna get some bad karma I'm the one who had to learn to build a heart made of armor From the girl who made you soup and tied your shoes when you were hurting You are not deserving, you are not deserving\" \n",
    "]\n",
    "pipeline_model.predict(letras_val)"
   ]
  },
  {
   "cell_type": "code",
   "execution_count": 200,
   "metadata": {},
   "outputs": [],
   "source": [
    "# Clasificación real de las letras (rock,metal,pop,hiphop,rock,pop)"
   ]
  },
  {
   "cell_type": "markdown",
   "metadata": {},
   "source": [
    "- Se aprecia que el modelo tiene un nivel de precisión bastante aceptable y una buena sensibilidad, especialmente para los géneros hip-hop, metal y rock, en menor medida disminuye el rendimiento de las clasificaciones del pop, pensamos que ésto se debe a que el data set correspondiente al pop contenía menor número de canciones.\n",
    "\n",
    "\n",
    "- Al clasificar las nuevas letras y comparar con la clasificación verdadera, vemos que el modelo presenta una precisión del 33 %, es decir clasificó bien 2 canciones de 6, equivalentes al rock y al metal. Si bien, esta muestra es muy pequeña, al aumentar deberían mejorar las puntuaciones, pero para mejorar el modelo se implementarán modificaciones."
   ]
  },
  {
   "cell_type": "markdown",
   "metadata": {},
   "source": [
    "### Ejercicio 5: Mejora del Modelo\n",
    "* Proponga una estrategia para mejorar el desempeño del modelo en la categoría con peores métricas.\n",
    "* Repita los pasos de entrenamiento y reporte de métricas, esta vez incluyendo los nuevos datos suministrados.\n",
    "* Comente sobre el desempeño general de éste."
   ]
  },
  {
   "cell_type": "markdown",
   "metadata": {},
   "source": [
    "#### * La estrategia para mejorar las métricas de clasificación en Pop, Metal y en general, consistirá en aumentar el data set, modificar los hiperparametros del modelo y probar con un modelo cuya vectorización se realice con los métodos TfidfTransformer y TfidfVectorizer, en lugar de CountVectorizer\n"
   ]
  },
  {
   "cell_type": "markdown",
   "metadata": {},
   "source": [
    "### * Modelo I: CountVectorizer"
   ]
  },
  {
   "cell_type": "code",
   "execution_count": 178,
   "metadata": {},
   "outputs": [
    {
     "name": "stdout",
     "output_type": "stream",
     "text": [
      "C:\\Users\\Juan\\Desafio\\Modulo III\\Desafíos\\1.3\\dump_plus_pop\\anthrax_scrape.csv\n",
      "C:\\Users\\Juan\\Desafio\\Modulo III\\Desafíos\\1.3\\dump_plus_pop\\ariana_grande_scrape.csv\n",
      "C:\\Users\\Juan\\Desafio\\Modulo III\\Desafíos\\1.3\\dump_plus_pop\\a_tribe_called_quest_scrape.csv\n",
      "C:\\Users\\Juan\\Desafio\\Modulo III\\Desafíos\\1.3\\dump_plus_pop\\backstreet_boys_scrape.csv\n",
      "C:\\Users\\Juan\\Desafio\\Modulo III\\Desafíos\\1.3\\dump_plus_pop\\black_star_scrape.csv\n",
      "C:\\Users\\Juan\\Desafio\\Modulo III\\Desafíos\\1.3\\dump_plus_pop\\bob_dylan_scrape.csv\n",
      "C:\\Users\\Juan\\Desafio\\Modulo III\\Desafíos\\1.3\\dump_plus_pop\\britney_spears_scrape.csv\n",
      "C:\\Users\\Juan\\Desafio\\Modulo III\\Desafíos\\1.3\\dump_plus_pop\\bruce_springsteen_scrape.csv\n",
      "C:\\Users\\Juan\\Desafio\\Modulo III\\Desafíos\\1.3\\dump_plus_pop\\cannibal_corpse_scrape.csv\n",
      "C:\\Users\\Juan\\Desafio\\Modulo III\\Desafíos\\1.3\\dump_plus_pop\\carly_rae_jepsen_scrape.csv\n",
      "C:\\Users\\Juan\\Desafio\\Modulo III\\Desafíos\\1.3\\dump_plus_pop\\christina_aguilera_scrape.csv\n",
      "C:\\Users\\Juan\\Desafio\\Modulo III\\Desafíos\\1.3\\dump_plus_pop\\deicide_scrape.csv\n",
      "C:\\Users\\Juan\\Desafio\\Modulo III\\Desafíos\\1.3\\dump_plus_pop\\de_la_soul_scrape.csv\n",
      "C:\\Users\\Juan\\Desafio\\Modulo III\\Desafíos\\1.3\\dump_plus_pop\\dr._dre_scrape.csv\n",
      "C:\\Users\\Juan\\Desafio\\Modulo III\\Desafíos\\1.3\\dump_plus_pop\\dua_lipa_scrape.csv\n",
      "C:\\Users\\Juan\\Desafio\\Modulo III\\Desafíos\\1.3\\dump_plus_pop\\eminem_scrape.csv\n",
      "C:\\Users\\Juan\\Desafio\\Modulo III\\Desafíos\\1.3\\dump_plus_pop\\faith_no_more_scrape.csv\n",
      "C:\\Users\\Juan\\Desafio\\Modulo III\\Desafíos\\1.3\\dump_plus_pop\\five_scrape.csv\n",
      "C:\\Users\\Juan\\Desafio\\Modulo III\\Desafíos\\1.3\\dump_plus_pop\\frank_ocean_scrape.csv\n",
      "C:\\Users\\Juan\\Desafio\\Modulo III\\Desafíos\\1.3\\dump_plus_pop\\george_michael_scrape.csv\n",
      "C:\\Users\\Juan\\Desafio\\Modulo III\\Desafíos\\1.3\\dump_plus_pop\\ghostface_killah_scrape.csv\n",
      "C:\\Users\\Juan\\Desafio\\Modulo III\\Desafíos\\1.3\\dump_plus_pop\\gorgoroth_scrape.csv\n",
      "C:\\Users\\Juan\\Desafio\\Modulo III\\Desafíos\\1.3\\dump_plus_pop\\immortal_scrape.csv\n",
      "C:\\Users\\Juan\\Desafio\\Modulo III\\Desafíos\\1.3\\dump_plus_pop\\incubus_scrape.csv\n",
      "C:\\Users\\Juan\\Desafio\\Modulo III\\Desafíos\\1.3\\dump_plus_pop\\iron_maiden_scrape.csv\n",
      "C:\\Users\\Juan\\Desafio\\Modulo III\\Desafíos\\1.3\\dump_plus_pop\\justin_timberlake_scrape.csv\n",
      "C:\\Users\\Juan\\Desafio\\Modulo III\\Desafíos\\1.3\\dump_plus_pop\\kanye_west_scrape.csv\n",
      "C:\\Users\\Juan\\Desafio\\Modulo III\\Desafíos\\1.3\\dump_plus_pop\\kendrick_lamar_scrape.csv\n",
      "C:\\Users\\Juan\\Desafio\\Modulo III\\Desafíos\\1.3\\dump_plus_pop\\killer_mike_scrape.csv\n",
      "C:\\Users\\Juan\\Desafio\\Modulo III\\Desafíos\\1.3\\dump_plus_pop\\kiss_scrape.csv\n",
      "C:\\Users\\Juan\\Desafio\\Modulo III\\Desafíos\\1.3\\dump_plus_pop\\led_zeppelin_scrape.csv\n",
      "C:\\Users\\Juan\\Desafio\\Modulo III\\Desafíos\\1.3\\dump_plus_pop\\lorde_scrape.csv\n",
      "C:\\Users\\Juan\\Desafio\\Modulo III\\Desafíos\\1.3\\dump_plus_pop\\mayhem_scrape.csv\n",
      "C:\\Users\\Juan\\Desafio\\Modulo III\\Desafíos\\1.3\\dump_plus_pop\\megadeth_scrape.csv\n",
      "C:\\Users\\Juan\\Desafio\\Modulo III\\Desafíos\\1.3\\dump_plus_pop\\meshuggah_scrape.csv\n",
      "C:\\Users\\Juan\\Desafio\\Modulo III\\Desafíos\\1.3\\dump_plus_pop\\metallica_scrape.csv\n",
      "C:\\Users\\Juan\\Desafio\\Modulo III\\Desafíos\\1.3\\dump_plus_pop\\method_man_scrape.csv\n",
      "C:\\Users\\Juan\\Desafio\\Modulo III\\Desafíos\\1.3\\dump_plus_pop\\mf_doom_scrape.csv\n",
      "C:\\Users\\Juan\\Desafio\\Modulo III\\Desafíos\\1.3\\dump_plus_pop\\michael_jackson_scrape.csv\n",
      "C:\\Users\\Juan\\Desafio\\Modulo III\\Desafíos\\1.3\\dump_plus_pop\\mobb_deep_scrape.csv\n",
      "C:\\Users\\Juan\\Desafio\\Modulo III\\Desafíos\\1.3\\dump_plus_pop\\modest_mouse_scrape.csv\n",
      "C:\\Users\\Juan\\Desafio\\Modulo III\\Desafíos\\1.3\\dump_plus_pop\\mos_def_scrape.csv\n",
      "C:\\Users\\Juan\\Desafio\\Modulo III\\Desafíos\\1.3\\dump_plus_pop\\necrophagist_scrape.csv\n",
      "C:\\Users\\Juan\\Desafio\\Modulo III\\Desafíos\\1.3\\dump_plus_pop\\new_kids_on_the_block_scrape.csv\n",
      "C:\\Users\\Juan\\Desafio\\Modulo III\\Desafíos\\1.3\\dump_plus_pop\\nickelback_scrape.csv\n",
      "C:\\Users\\Juan\\Desafio\\Modulo III\\Desafíos\\1.3\\dump_plus_pop\\nicki_minaj_scrape.csv\n",
      "C:\\Users\\Juan\\Desafio\\Modulo III\\Desafíos\\1.3\\dump_plus_pop\\nwa_scrape.csv\n",
      "C:\\Users\\Juan\\Desafio\\Modulo III\\Desafíos\\1.3\\dump_plus_pop\\oasis_scrape.csv\n",
      "C:\\Users\\Juan\\Desafio\\Modulo III\\Desafíos\\1.3\\dump_plus_pop\\opeth_scrape.csv\n",
      "C:\\Users\\Juan\\Desafio\\Modulo III\\Desafíos\\1.3\\dump_plus_pop\\pharrell_williams_scrape.csv\n",
      "C:\\Users\\Juan\\Desafio\\Modulo III\\Desafíos\\1.3\\dump_plus_pop\\pink_floyd_scrape.csv\n",
      "C:\\Users\\Juan\\Desafio\\Modulo III\\Desafíos\\1.3\\dump_plus_pop\\public_enemy_scrape.csv\n",
      "C:\\Users\\Juan\\Desafio\\Modulo III\\Desafíos\\1.3\\dump_plus_pop\\queen_scrape.csv\n",
      "C:\\Users\\Juan\\Desafio\\Modulo III\\Desafíos\\1.3\\dump_plus_pop\\radiohead_scrape.csv\n",
      "C:\\Users\\Juan\\Desafio\\Modulo III\\Desafíos\\1.3\\dump_plus_pop\\raekwon_scrape.csv\n",
      "C:\\Users\\Juan\\Desafio\\Modulo III\\Desafíos\\1.3\\dump_plus_pop\\rage_against_the_machine_scrape.csv\n",
      "C:\\Users\\Juan\\Desafio\\Modulo III\\Desafíos\\1.3\\dump_plus_pop\\red_hot_chili_peppers_scrape.csv\n",
      "C:\\Users\\Juan\\Desafio\\Modulo III\\Desafíos\\1.3\\dump_plus_pop\\rush_scrape.csv\n",
      "C:\\Users\\Juan\\Desafio\\Modulo III\\Desafíos\\1.3\\dump_plus_pop\\sam_smith_scrape.csv\n",
      "C:\\Users\\Juan\\Desafio\\Modulo III\\Desafíos\\1.3\\dump_plus_pop\\sia_scrape.csv\n",
      "C:\\Users\\Juan\\Desafio\\Modulo III\\Desafíos\\1.3\\dump_plus_pop\\slayer_scrape.csv\n",
      "C:\\Users\\Juan\\Desafio\\Modulo III\\Desafíos\\1.3\\dump_plus_pop\\spice_girls_scrape.csv\n",
      "C:\\Users\\Juan\\Desafio\\Modulo III\\Desafíos\\1.3\\dump_plus_pop\\system_of_a_down_scrape.csv\n",
      "C:\\Users\\Juan\\Desafio\\Modulo III\\Desafíos\\1.3\\dump_plus_pop\\the_beatles_scrape.csv\n",
      "C:\\Users\\Juan\\Desafio\\Modulo III\\Desafíos\\1.3\\dump_plus_pop\\the_clash_scrape.csv\n",
      "C:\\Users\\Juan\\Desafio\\Modulo III\\Desafíos\\1.3\\dump_plus_pop\\the_doors_scrape.csv\n",
      "C:\\Users\\Juan\\Desafio\\Modulo III\\Desafíos\\1.3\\dump_plus_pop\\the_smashing_pumpkins_scrape.csv\n",
      "C:\\Users\\Juan\\Desafio\\Modulo III\\Desafíos\\1.3\\dump_plus_pop\\the_smiths_scrape.csv\n",
      "C:\\Users\\Juan\\Desafio\\Modulo III\\Desafíos\\1.3\\dump_plus_pop\\the_weeknd_scrape.csv\n",
      "C:\\Users\\Juan\\Desafio\\Modulo III\\Desafíos\\1.3\\dump_plus_pop\\tool_scrape.csv\n",
      "C:\\Users\\Juan\\Desafio\\Modulo III\\Desafíos\\1.3\\dump_plus_pop\\usher_scrape.csv\n",
      "C:\\Users\\Juan\\Desafio\\Modulo III\\Desafíos\\1.3\\dump_plus_pop\\vital_remains_scrape.csv\n",
      "C:\\Users\\Juan\\Desafio\\Modulo III\\Desafíos\\1.3\\dump_plus_pop\\weezer_scrape.csv\n"
     ]
    }
   ],
   "source": [
    "#creación de un dataframe con los csv separados\n",
    "direction2= glob.glob(os.getcwd()+'\\dump_plus_pop\\*.csv') # dirección de los archivos csv\n",
    "dfList_2=[]\n",
    "for filename in direction2: # ciclo para añadir los csv a una lista de csv\n",
    "    print(filename)\n",
    "    df2=pd.read_csv(filename, header=None)\n",
    "    dfList_2.append(df2) "
   ]
  },
  {
   "cell_type": "code",
   "execution_count": 352,
   "metadata": {},
   "outputs": [
    {
     "data": {
      "text/plain": [
       "(10877, 5)"
      ]
     },
     "metadata": {},
     "output_type": "display_data"
    },
    {
     "data": {
      "text/plain": [
       "(10877, 4)"
      ]
     },
     "metadata": {},
     "output_type": "display_data"
    },
    {
     "data": {
      "text/plain": [
       "(10804, 4)"
      ]
     },
     "metadata": {},
     "output_type": "display_data"
    }
   ],
   "source": [
    "concatDf2=pd.concat(dfList_2, axis=0) #concatenacion de  la lista de csv a un dataframe\n",
    "display(concatDf2.shape)\n",
    "namescol=[\"a\", \"grupo\",\"genero\",\"cancion\",\"letra\"]# nombre a las columnas del dataframe\n",
    "concatDf2.columns=namescol\n",
    "concatDf2.drop(concatDf2.columns[0], axis='columns', inplace= True) #Eliminación primera \"columna basura\"\n",
    "df2=concatDf2\n",
    "display (df2.shape)\n",
    "df2 = df2.drop(df2[df2['grupo']=='0'].index) #Eliminación de las falsas filas que se generan al concatenar los múltiples csv\n",
    "display(df2.shape)"
   ]
  },
  {
   "cell_type": "code",
   "execution_count": 359,
   "metadata": {},
   "outputs": [],
   "source": [
    "# División del dataset en subcojuntos de entrenamiento y test\n",
    "X_train, X_test, y_train, y_test = train_test_split(df2['letra'], df2['genero'], random_state=1986, test_size=.33)"
   ]
  },
  {
   "cell_type": "code",
   "execution_count": 364,
   "metadata": {},
   "outputs": [],
   "source": [
    "#Procesamiento con Pipelines\n",
    "\n",
    "pipeline_model = Pipeline([('Vectorización', CountVectorizer(stop_words='english')),\n",
    "                            ('NaiveBayes', MultinomialNB(alpha=0.8))])\n",
    "pipeline_model.fit(X_train, y_train)\n",
    "y_hat = pipeline_model.predict(X_test)"
   ]
  },
  {
   "cell_type": "code",
   "execution_count": 365,
   "metadata": {},
   "outputs": [
    {
     "name": "stdout",
     "output_type": "stream",
     "text": [
      "              precision    recall  f1-score   support\n",
      "\n",
      "      hiphop       0.84      0.91      0.87       836\n",
      "       metal       0.82      0.73      0.77       515\n",
      "         pop       0.64      0.68      0.66       814\n",
      "        rock       0.78      0.74      0.76      1401\n",
      "\n",
      "   micro avg       0.77      0.77      0.77      3566\n",
      "   macro avg       0.77      0.77      0.77      3566\n",
      "weighted avg       0.77      0.77      0.76      3566\n",
      "\n"
     ]
    },
    {
     "data": {
      "text/plain": [
       "None"
      ]
     },
     "metadata": {},
     "output_type": "display_data"
    },
    {
     "data": {
      "text/plain": [
       "Text(92.68, 0.5, 'predicted label')"
      ]
     },
     "execution_count": 365,
     "metadata": {},
     "output_type": "execute_result"
    },
    {
     "data": {
      "image/png": "[encoded data removed]",
      "text/plain": [
       "<Figure size 432x288 with 1 Axes>"
      ]
     },
     "metadata": {},
     "output_type": "display_data"
    }
   ],
   "source": [
    "#Metricas de desempeño del modelo\n",
    "\n",
    "display(print(classification_report(y_test, y_hat)))\n",
    "generos=['hiphop','metal','pop','rock']\n",
    "mat = confusion_matrix(y_test, y_hat)\n",
    "sns.heatmap(\n",
    "    mat.T, square=True, annot=True, fmt='d', cbar=False,\n",
    "    xticklabels=generos, \n",
    "    yticklabels=generos\n",
    ")\n",
    "plt.xlabel('true label')\n",
    "plt.ylabel('predicted label') "
   ]
  },
  {
   "cell_type": "code",
   "execution_count": 367,
   "metadata": {},
   "outputs": [
    {
     "data": {
      "text/plain": [
       "array(['rock', 'metal', 'pop', 'pop', 'metal', 'pop'], dtype='<U6')"
      ]
     },
     "execution_count": 367,
     "metadata": {},
     "output_type": "execute_result"
    }
   ],
   "source": [
    "# Predicción de letras nuevas\n",
    "letras_val=['I got a place in the underworld', \n",
    "'As veils of ignorance, hatred retains Storm of arrows through karma Seeking light through samsara', \n",
    "\"Bye bye Don't want to be a fool for you Just another player in your game for two You may hate me but it ain't no lie\", \n",
    "'Move bitch, get out the way Get out the way bitch, get out the way Move bitch, get out the way Get out the way bitch, get out the way', \n",
    "'Sexual violence doesn’t start and end with rape It starts in our books and behind our school gates', \n",
    "\"Take it from the girl you claimed to love You gonna get some bad karma I'm the one who had to learn to build a heart made of armor From the girl who made you soup and tied your shoes when you were hurting You are not deserving, you are not deserving\" \n",
    "]\n",
    "pipeline_model.predict(letras_val)"
   ]
  },
  {
   "cell_type": "code",
   "execution_count": null,
   "metadata": {},
   "outputs": [],
   "source": [
    "# Clasificación real de las letras (rock,metal,pop,hiphop,rock,pop)"
   ]
  },
  {
   "cell_type": "markdown",
   "metadata": {},
   "source": [
    "- Se aprecia que mejora levemente la precisión del modelo en hip-hop y metal, en cuanto al Pop, no se presenta una mejora considerable, si no que disminuyó la precisión pero aumentó la sensibilidad (recall) en un punto ambos, ésto es porque el data set tampoco aumentó dramaticamente el número de canciones, es decir paso desde 742 a 814.\n",
    "\n",
    "\n",
    "- Se aprecia una mejor clasificación de las letras, se logró clasificar 4/6, un 66%, en donde el hip-hop no fue bien identificado.\n",
    "\n"
   ]
  },
  {
   "cell_type": "markdown",
   "metadata": {},
   "source": [
    "### * Modelo II: TfidfTransformer & TfidfVectorizer"
   ]
  },
  {
   "cell_type": "code",
   "execution_count": 225,
   "metadata": {},
   "outputs": [
    {
     "name": "stderr",
     "output_type": "stream",
     "text": [
      "[nltk_data] Downloading package stopwords to\n",
      "[nltk_data]     C:\\Users\\Juan\\AppData\\Roaming\\nltk_data...\n",
      "[nltk_data]   Unzipping corpora\\stopwords.zip.\n"
     ]
    }
   ],
   "source": [
    "#Descarga e instalación de la librería stopwords\n",
    "import nltk\n",
    "from nltk.corpus import stopwords\n",
    "nltk.download('stopwords')\n",
    "stopwords = stopwords.words('english')"
   ]
  },
  {
   "cell_type": "code",
   "execution_count": 344,
   "metadata": {},
   "outputs": [],
   "source": [
    "from sklearn.feature_extraction.text import TfidfTransformer, TfidfVectorizer\n",
    "from nltk.corpus import stopwords\n",
    "\n",
    "stop = list(set(stopwords.words('english'))) # stopwords\n",
    "\n",
    "# Pipeline\n",
    "pipeline_model = Pipeline(\n",
    "    [('vect', TfidfVectorizer(\n",
    "        ngram_range=(1, 2), # incluye bigrams\n",
    "        stop_words=stop,\n",
    "        max_df=0.4, # ignore terms that appear in more than 50% of documents\n",
    "        min_df=4)), # ignore terms that appear in less than 3 documents\n",
    "     ('tfidf', TfidfTransformer()),\n",
    "     ('clf', MultinomialNB(alpha=0.5))])\n",
    "\n",
    "pipeline_model.fit(X_train, y_train)\n",
    "y_hat = pipeline_model.predict(X_test)"
   ]
  },
  {
   "cell_type": "code",
   "execution_count": 345,
   "metadata": {},
   "outputs": [
    {
     "name": "stdout",
     "output_type": "stream",
     "text": [
      "              precision    recall  f1-score   support\n",
      "\n",
      "      hiphop       0.84      0.90      0.87       767\n",
      "       metal       0.96      0.55      0.69       467\n",
      "         pop       0.80      0.48      0.60       742\n",
      "        rock       0.68      0.91      0.78      1266\n",
      "\n",
      "   micro avg       0.76      0.76      0.76      3242\n",
      "   macro avg       0.82      0.71      0.73      3242\n",
      "weighted avg       0.78      0.76      0.75      3242\n",
      "\n"
     ]
    },
    {
     "data": {
      "text/plain": [
       "None"
      ]
     },
     "metadata": {},
     "output_type": "display_data"
    },
    {
     "data": {
      "text/plain": [
       "Text(92.68, 0.5, 'predicted label')"
      ]
     },
     "execution_count": 345,
     "metadata": {},
     "output_type": "execute_result"
    },
    {
     "data": {
      "image/png": "[encoded data removed]",
      "text/plain": [
       "<Figure size 432x288 with 1 Axes>"
      ]
     },
     "metadata": {},
     "output_type": "display_data"
    }
   ],
   "source": [
    "#Metricas de desempeño del modelo\n",
    "\n",
    "display(print(classification_report(y_test, y_hat)))\n",
    "generos=['hiphop','metal','pop','rock']\n",
    "mat = confusion_matrix(y_test, y_hat)\n",
    "sns.heatmap(\n",
    "    mat.T, square=True, annot=True, fmt='d', cbar=False,\n",
    "    xticklabels=generos, \n",
    "    yticklabels=generos\n",
    ")\n",
    "plt.xlabel('true label')\n",
    "plt.ylabel('predicted label') "
   ]
  },
  {
   "cell_type": "code",
   "execution_count": 346,
   "metadata": {},
   "outputs": [
    {
     "data": {
      "text/plain": [
       "array(['rock', 'metal', 'rock', 'hiphop', 'metal', 'rock'], dtype='<U6')"
      ]
     },
     "execution_count": 346,
     "metadata": {},
     "output_type": "execute_result"
    }
   ],
   "source": [
    "# Predicción de letras nuevas\n",
    "letras_val=['I got a place in the underworld', \n",
    "'As veils of ignorance, hatred retains Storm of arrows through karma Seeking light through samsara', \n",
    "\"Bye bye Don't want to be a fool for you Just another player in your game for two You may hate me but it ain't no lie\", \n",
    "'Move bitch, get out the way Get out the way bitch, get out the way Move bitch, get out the way Get out the way bitch, get out the way', \n",
    "'Sexual violence doesn’t start and end with rape It starts in our books and behind our school gates', \n",
    "\"Take it from the girl you claimed to love You gonna get some bad karma I'm the one who had to learn to build a heart made of armor From the girl who made you soup and tied your shoes when you were hurting You are not deserving, you are not deserving\" \n",
    "]\n",
    "pipeline_model.predict(letras_val)"
   ]
  },
  {
   "cell_type": "code",
   "execution_count": null,
   "metadata": {},
   "outputs": [],
   "source": [
    "# Clasificación real de las letras (rock,metal,pop,hiphop,rock,pop)"
   ]
  },
  {
   "cell_type": "markdown",
   "metadata": {},
   "source": [
    "- Este modelo genera un preprocesamiento de los tokens un poco más sofisticado que la clase CountVectorizer, ya que integra otros parametros, en general se puede apreciar que mejoran bastente la precisión de todos los generos a excepción del rock que disminuye, la sensibilidad se conserva, pero las métricas informan que este modelo tiene un desempeño global mayor en precisión 0,82 que el resto de los modelos, pero su sensibilidad es menor que el anterior, por lo tanto F1 se compensa.\n",
    "\n",
    "\n",
    "\n",
    "- El modelo acertó 3 de 6 letras, es decir el 50 %, tuvo problemas para predecir el pop y el hip-hop en las letras entregadas."
   ]
  },
  {
   "cell_type": "code",
   "execution_count": null,
   "metadata": {},
   "outputs": [],
   "source": []
  }
 ],
 "metadata": {
  "hide_input": false,
  "kernelspec": {
   "display_name": "Python 3",
   "language": "python",
   "name": "python3"
  },
  "language_info": {
   "codemirror_mode": {
    "name": "ipython",
    "version": 3
   },
   "file_extension": ".py",
   "mimetype": "text/x-python",
   "name": "python",
   "nbconvert_exporter": "python",
   "pygments_lexer": "ipython3",
   "version": "3.7.3"
  }
 },
 "nbformat": 4,
 "nbformat_minor": 2
}
